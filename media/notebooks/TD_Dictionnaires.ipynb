{
 "cells": [
  {
   "cell_type": "code",
   "execution_count": 4,
   "id": "313bc577-7703-4ded-8abf-c4e7eb47df2e",
   "metadata": {},
   "outputs": [],
   "source": [
    "from collections import Counter"
   ]
  },
  {
   "cell_type": "code",
   "execution_count": 5,
   "id": "31f2f6ff-0ae8-4b6b-8960-affed44fe3e1",
   "metadata": {},
   "outputs": [],
   "source": [
    "L = [1, 2, 3, 4, 5]"
   ]
  },
  {
   "cell_type": "code",
   "execution_count": 8,
   "id": "82993999-2b1e-4465-895c-02dce2c2b9b9",
   "metadata": {},
   "outputs": [
    {
     "data": {
      "text/plain": [
       "collections.Counter"
      ]
     },
     "execution_count": 8,
     "metadata": {},
     "output_type": "execute_result"
    }
   ],
   "source": [
    "counter = Counter(L)\n",
    "type(counter)"
   ]
  },
  {
   "cell_type": "markdown",
   "id": "4b8053a6-747a-41d3-8d49-14493a60c206",
   "metadata": {},
   "source": [
    "#### La gestion des exceptions"
   ]
  },
  {
   "cell_type": "code",
   "execution_count": null,
   "id": "aa528e61-24fa-4e6a-b3f9-2e20020eee39",
   "metadata": {},
   "outputs": [],
   "source": [
    "\"\"\" try :\n",
    "    taille = 1.75\n",
    "    masse = 40\n",
    "    imc = f(taille, masse **2)\n",
    "    print(imc)\n",
    "except ZeroDivisionError :\n",
    "    print(\"Attention on ne divise pas par 0\")\n",
    "except Exception :\n",
    "    print(\"Attention\")\n",
    "else :\n",
    "    print(\"Tout est ok\")\n",
    "finally : \n",
    "    print(\"Toujours executer\")"
   ]
  },
  {
   "cell_type": "markdown",
   "id": "9d5a585a-7aff-4b18-a9d5-2445fd457553",
   "metadata": {},
   "source": [
    "### TP_DICTIONNAIRES"
   ]
  },
  {
   "cell_type": "markdown",
   "id": "be405eb7-bccb-45ef-8516-a1b5bf9e3830",
   "metadata": {},
   "source": [
    "#### 1- Créez un tuple coordonnees qui contient les coordonnées d’un point dans un espace à deux dimensions (x, y)."
   ]
  },
  {
   "cell_type": "code",
   "execution_count": 11,
   "id": "caab402f-729b-4b88-a56d-7055df968bb6",
   "metadata": {},
   "outputs": [],
   "source": [
    "M = (2, 3)"
   ]
  },
  {
   "cell_type": "markdown",
   "id": "3484784f-7579-48ea-ba87-cb576464a936",
   "metadata": {},
   "source": [
    "#### 2 -Écrivez une fonction changer_x qui prend en argument un tuple coordonnees et un nombre nouvelle_valeur, et renvoie un nouveau tuple où la valeur de x a été modifiée."
   ]
  },
  {
   "cell_type": "code",
   "execution_count": 14,
   "id": "241e048a-828f-4e09-9213-afd611f349cd",
   "metadata": {},
   "outputs": [],
   "source": [
    "def changer_x (M, x):\n",
    "    return (x, M[1])"
   ]
  },
  {
   "cell_type": "code",
   "execution_count": 18,
   "id": "b873045e-de4e-4d9b-b4d1-c128c5e149cc",
   "metadata": {},
   "outputs": [
    {
     "data": {
      "text/plain": [
       "(8, 3)"
      ]
     },
     "execution_count": 18,
     "metadata": {},
     "output_type": "execute_result"
    }
   ],
   "source": [
    "M = changer_x (M, 8)\n",
    "M"
   ]
  },
  {
   "cell_type": "code",
   "execution_count": null,
   "id": "1a45e07e-96ca-4f53-92fa-afdad3f5cd6c",
   "metadata": {},
   "outputs": [],
   "source": []
  },
  {
   "cell_type": "markdown",
   "id": "ba82623c-c22a-4ae1-915f-7d428080865b",
   "metadata": {},
   "source": [
    "#### 3-Écrivez une fonction magnitude qui calcule la magnitude (ou la norme) du vecteur représentant les coordonnées du point. La formule est ðx2 + y2"
   ]
  },
  {
   "cell_type": "code",
   "execution_count": 19,
   "id": "d0ff4205-d55f-4b0b-837f-5bddd603b4cd",
   "metadata": {},
   "outputs": [],
   "source": [
    "from math import sqrt\n",
    "\n",
    "def magnitude(t):\n",
    "    x, y = t\n",
    "    return sqrt(x**2 + y**2)"
   ]
  },
  {
   "cell_type": "code",
   "execution_count": 20,
   "id": "f5249523-44e3-4f0f-afd6-0baaa0c98436",
   "metadata": {},
   "outputs": [
    {
     "data": {
      "text/plain": [
       "8.54400374531753"
      ]
     },
     "execution_count": 20,
     "metadata": {},
     "output_type": "execute_result"
    }
   ],
   "source": [
    "magnitude(M)"
   ]
  },
  {
   "cell_type": "markdown",
   "id": "f5bc502c-9fca-42e8-9329-db0553dc96ce",
   "metadata": {},
   "source": [
    "#### Autre resolution"
   ]
  },
  {
   "cell_type": "code",
   "execution_count": 21,
   "id": "fa4b8982-fb76-46da-ada5-72d30a92250c",
   "metadata": {},
   "outputs": [],
   "source": [
    "def magnitude(t):\n",
    "    return sqrt(sum([i**2 for i in t]))"
   ]
  },
  {
   "cell_type": "code",
   "execution_count": 22,
   "id": "96fe3505-3ba8-4eda-a6ba-3ca479a5105c",
   "metadata": {},
   "outputs": [
    {
     "data": {
      "text/plain": [
       "8.54400374531753"
      ]
     },
     "execution_count": 22,
     "metadata": {},
     "output_type": "execute_result"
    }
   ],
   "source": [
    "magnitude(M)"
   ]
  },
  {
   "cell_type": "code",
   "execution_count": null,
   "id": "22803544-2216-4344-83cb-46c155b1cb7d",
   "metadata": {},
   "outputs": [],
   "source": []
  }
 ],
 "metadata": {
  "kernelspec": {
   "display_name": "Python 3 (ipykernel)",
   "language": "python",
   "name": "python3"
  },
  "language_info": {
   "codemirror_mode": {
    "name": "ipython",
    "version": 3
   },
   "file_extension": ".py",
   "mimetype": "text/x-python",
   "name": "python",
   "nbconvert_exporter": "python",
   "pygments_lexer": "ipython3",
   "version": "3.12.7"
  }
 },
 "nbformat": 4,
 "nbformat_minor": 5
}
