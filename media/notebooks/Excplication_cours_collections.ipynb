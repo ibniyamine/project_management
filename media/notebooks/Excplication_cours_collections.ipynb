{
 "cells": [
  {
   "cell_type": "markdown",
   "id": "26edbe82-231b-4943-9898-89519e94f30c",
   "metadata": {},
   "source": [
    "PLAN\n",
    "1. Les tuples\n",
    "2. Tables de Hash\n",
    "3. Les dictionnaires\n",
    "4. Les ensembles\n",
    "5. Le module Collections\n",
    "6. Les Exceptions"
   ]
  },
  {
   "cell_type": "markdown",
   "id": "d3be1b5d-6e18-444b-ab94-10add8a7a699",
   "metadata": {},
   "source": [
    "## 1. Tuples "
   ]
  },
  {
   "cell_type": "code",
   "execution_count": 4,
   "id": "7327ed14-9626-4b73-949f-fbada874db41",
   "metadata": {},
   "outputs": [
    {
     "data": {
      "text/plain": [
       "(1, True, 'bonjour', (1+2j))"
      ]
     },
     "execution_count": 4,
     "metadata": {},
     "output_type": "execute_result"
    }
   ],
   "source": [
    "t = (1, True, \"bonjour\", 1+2j)\n",
    "t"
   ]
  },
  {
   "cell_type": "code",
   "execution_count": 5,
   "id": "df882800-7207-4d15-8241-7d26fffbc687",
   "metadata": {},
   "outputs": [
    {
     "data": {
      "text/plain": [
       "tuple"
      ]
     },
     "execution_count": 5,
     "metadata": {},
     "output_type": "execute_result"
    }
   ],
   "source": [
    "type(t)"
   ]
  },
  {
   "cell_type": "code",
   "execution_count": 7,
   "id": "1938c98b-813a-4124-bf61-7ec70b3d3731",
   "metadata": {},
   "outputs": [
    {
     "ename": "TypeError",
     "evalue": "'tuple' object does not support item assignment",
     "output_type": "error",
     "traceback": [
      "\u001b[0;31m---------------------------------------------------------------------------\u001b[0m",
      "\u001b[0;31mTypeError\u001b[0m                                 Traceback (most recent call last)",
      "Cell \u001b[0;32mIn[7], line 1\u001b[0m\n\u001b[0;32m----> 1\u001b[0m \u001b[43mt\u001b[49m\u001b[43m[\u001b[49m\u001b[38;5;241;43m0\u001b[39;49m\u001b[43m]\u001b[49m \u001b[38;5;241m=\u001b[39m \u001b[38;5;241m10\u001b[39m\n",
      "\u001b[0;31mTypeError\u001b[0m: 'tuple' object does not support item assignment"
     ]
    }
   ],
   "source": [
    "t[0] = 10"
   ]
  },
  {
   "cell_type": "code",
   "execution_count": 8,
   "id": "0ec3f0f4-1033-4767-95e4-d5ae134b083e",
   "metadata": {},
   "outputs": [
    {
     "data": {
      "text/plain": [
       "['__add__',\n",
       " '__class__',\n",
       " '__class_getitem__',\n",
       " '__contains__',\n",
       " '__delattr__',\n",
       " '__dir__',\n",
       " '__doc__',\n",
       " '__eq__',\n",
       " '__format__',\n",
       " '__ge__',\n",
       " '__getattribute__',\n",
       " '__getitem__',\n",
       " '__getnewargs__',\n",
       " '__gt__',\n",
       " '__hash__',\n",
       " '__init__',\n",
       " '__init_subclass__',\n",
       " '__iter__',\n",
       " '__le__',\n",
       " '__len__',\n",
       " '__lt__',\n",
       " '__mul__',\n",
       " '__ne__',\n",
       " '__new__',\n",
       " '__reduce__',\n",
       " '__reduce_ex__',\n",
       " '__repr__',\n",
       " '__rmul__',\n",
       " '__setattr__',\n",
       " '__sizeof__',\n",
       " '__str__',\n",
       " '__subclasshook__',\n",
       " 'count',\n",
       " 'index']"
      ]
     },
     "execution_count": 8,
     "metadata": {},
     "output_type": "execute_result"
    }
   ],
   "source": [
    "dir(tuple)"
   ]
  },
  {
   "cell_type": "code",
   "execution_count": 9,
   "id": "5eb0e00f-a1cd-499d-a45b-3c08fac845f3",
   "metadata": {},
   "outputs": [],
   "source": [
    "t = (1, 1 , 3, 2, 1)"
   ]
  },
  {
   "cell_type": "code",
   "execution_count": 10,
   "id": "9e16e179-33a0-48b7-81cc-cae756934448",
   "metadata": {},
   "outputs": [
    {
     "data": {
      "text/plain": [
       "3"
      ]
     },
     "execution_count": 10,
     "metadata": {},
     "output_type": "execute_result"
    }
   ],
   "source": [
    "t.count(1)"
   ]
  },
  {
   "cell_type": "code",
   "execution_count": 11,
   "id": "9dae3415-d78a-4b2b-aa75-84f09ac91d21",
   "metadata": {},
   "outputs": [
    {
     "data": {
      "text/plain": [
       "2"
      ]
     },
     "execution_count": 11,
     "metadata": {},
     "output_type": "execute_result"
    }
   ],
   "source": [
    "t.index(3)"
   ]
  },
  {
   "cell_type": "code",
   "execution_count": 12,
   "id": "286c3b7d-b121-4d5c-9a72-67961582824e",
   "metadata": {},
   "outputs": [],
   "source": [
    "t = (1, 2, 3)"
   ]
  },
  {
   "cell_type": "code",
   "execution_count": 15,
   "id": "e3611288-8cd7-45b1-90e0-134b85c8c531",
   "metadata": {},
   "outputs": [
    {
     "data": {
      "text/plain": [
       "tuple"
      ]
     },
     "execution_count": 15,
     "metadata": {},
     "output_type": "execute_result"
    }
   ],
   "source": [
    "t = 1, 2, 4 \n",
    "type(t)"
   ]
  },
  {
   "cell_type": "code",
   "execution_count": 16,
   "id": "063fd738-3911-47f8-a35e-07ee01019390",
   "metadata": {},
   "outputs": [],
   "source": [
    "L = [1, 2, 4]"
   ]
  },
  {
   "cell_type": "code",
   "execution_count": 17,
   "id": "6abdf541-df1e-4dfb-86ba-edd5b9850f29",
   "metadata": {},
   "outputs": [],
   "source": [
    "a = L[0]\n",
    "b = L[1]\n",
    "c = L[2]"
   ]
  },
  {
   "cell_type": "code",
   "execution_count": 22,
   "id": "701b3320-f482-4654-8bc5-56ab417db521",
   "metadata": {},
   "outputs": [],
   "source": [
    "a, b, c = L \n"
   ]
  },
  {
   "cell_type": "code",
   "execution_count": 20,
   "id": "f689e1c6-5b5e-48dc-96a3-722b2a2819f6",
   "metadata": {},
   "outputs": [
    {
     "data": {
      "text/plain": [
       "1"
      ]
     },
     "execution_count": 20,
     "metadata": {},
     "output_type": "execute_result"
    }
   ],
   "source": [
    "a"
   ]
  },
  {
   "cell_type": "code",
   "execution_count": 21,
   "id": "35742d22-aaa3-4179-8806-9caf4ac90570",
   "metadata": {},
   "outputs": [
    {
     "data": {
      "text/plain": [
       "2"
      ]
     },
     "execution_count": 21,
     "metadata": {},
     "output_type": "execute_result"
    }
   ],
   "source": [
    "b "
   ]
  },
  {
   "cell_type": "code",
   "execution_count": 23,
   "id": "c8b6c927-8c96-4290-9139-61cfa6de9fe8",
   "metadata": {},
   "outputs": [
    {
     "data": {
      "text/plain": [
       "[1, 2, 4]"
      ]
     },
     "execution_count": 23,
     "metadata": {},
     "output_type": "execute_result"
    }
   ],
   "source": [
    "L "
   ]
  },
  {
   "cell_type": "code",
   "execution_count": 26,
   "id": "94466e30-ea4d-4f96-9e94-3fed30c2da76",
   "metadata": {},
   "outputs": [
    {
     "data": {
      "text/plain": [
       "[0, 1, 2, 3, 4, 5, 6, 7, 8, 9]"
      ]
     },
     "execution_count": 26,
     "metadata": {},
     "output_type": "execute_result"
    }
   ],
   "source": [
    "L = list(range(10))\n",
    "L"
   ]
  },
  {
   "cell_type": "code",
   "execution_count": 27,
   "id": "6f8fa37d-62b5-4c43-a55e-f225b47cfc0d",
   "metadata": {},
   "outputs": [],
   "source": [
    "a, *b = L "
   ]
  },
  {
   "cell_type": "code",
   "execution_count": 28,
   "id": "63b02c09-fbcc-4c1f-b0a3-501b89059dc1",
   "metadata": {},
   "outputs": [
    {
     "data": {
      "text/plain": [
       "0"
      ]
     },
     "execution_count": 28,
     "metadata": {},
     "output_type": "execute_result"
    }
   ],
   "source": [
    "a "
   ]
  },
  {
   "cell_type": "code",
   "execution_count": 29,
   "id": "08a58c82-c35b-43cb-8321-01c5506d12c2",
   "metadata": {},
   "outputs": [
    {
     "data": {
      "text/plain": [
       "[1, 2, 3, 4, 5, 6, 7, 8, 9]"
      ]
     },
     "execution_count": 29,
     "metadata": {},
     "output_type": "execute_result"
    }
   ],
   "source": [
    "b"
   ]
  },
  {
   "cell_type": "code",
   "execution_count": 30,
   "id": "f03c3524-1f3e-43e3-9c16-16f33dc6d7ea",
   "metadata": {},
   "outputs": [],
   "source": [
    "*a, b = L"
   ]
  },
  {
   "cell_type": "code",
   "execution_count": 31,
   "id": "8d0ed91e-beb1-473a-883a-eb2708928191",
   "metadata": {},
   "outputs": [
    {
     "data": {
      "text/plain": [
       "[0, 1, 2, 3, 4, 5, 6, 7, 8]"
      ]
     },
     "execution_count": 31,
     "metadata": {},
     "output_type": "execute_result"
    }
   ],
   "source": [
    "a "
   ]
  },
  {
   "cell_type": "code",
   "execution_count": 32,
   "id": "7a038664-e5f3-4c6a-bdee-b40304d4f9b7",
   "metadata": {},
   "outputs": [],
   "source": [
    "def f(x): \n",
    "    x_carre = x**2 \n",
    "    x_racine = (x)**(0.5)\n",
    "    return x_carre, x_racine"
   ]
  },
  {
   "cell_type": "code",
   "execution_count": 33,
   "id": "d59dd6f4-12eb-431a-8118-4f51f98145fd",
   "metadata": {},
   "outputs": [],
   "source": [
    "a, b = f(2)"
   ]
  },
  {
   "cell_type": "code",
   "execution_count": 34,
   "id": "83e979d5-4916-43e1-810f-62ac5010b2a8",
   "metadata": {},
   "outputs": [
    {
     "data": {
      "text/plain": [
       "4"
      ]
     },
     "execution_count": 34,
     "metadata": {},
     "output_type": "execute_result"
    }
   ],
   "source": [
    "a "
   ]
  },
  {
   "cell_type": "code",
   "execution_count": 35,
   "id": "f386fb6e-342a-4991-9032-b716f4f4767b",
   "metadata": {},
   "outputs": [
    {
     "data": {
      "text/plain": [
       "1.4142135623730951"
      ]
     },
     "execution_count": 35,
     "metadata": {},
     "output_type": "execute_result"
    }
   ],
   "source": [
    "b "
   ]
  },
  {
   "cell_type": "code",
   "execution_count": 37,
   "id": "93f1e13a-9f8e-49c4-b61c-9d82f8bc2d28",
   "metadata": {},
   "outputs": [
    {
     "data": {
      "text/plain": [
       "['a', 'b', 'c', 'd']"
      ]
     },
     "execution_count": 37,
     "metadata": {},
     "output_type": "execute_result"
    }
   ],
   "source": [
    "L = list(\"abcd\")\n",
    "L "
   ]
  },
  {
   "cell_type": "code",
   "execution_count": 41,
   "id": "38679b14-44c7-47ce-b359-9ff99914077b",
   "metadata": {},
   "outputs": [
    {
     "name": "stdout",
     "output_type": "stream",
     "text": [
      "0 a\n",
      "1 b\n",
      "2 c\n",
      "3 d\n"
     ]
    }
   ],
   "source": [
    "for index, elt in enumerate(L): \n",
    "    print(index, elt)"
   ]
  },
  {
   "cell_type": "code",
   "execution_count": 39,
   "id": "4f596cbe-2b4c-425a-9884-c874b4514fbc",
   "metadata": {},
   "outputs": [
    {
     "name": "stdout",
     "output_type": "stream",
     "text": [
      "0 a\n",
      "1 b\n",
      "2 c\n",
      "3 d\n"
     ]
    }
   ],
   "source": [
    "for i in range(len(L)):\n",
    "    print(i, L[i])"
   ]
  },
  {
   "cell_type": "markdown",
   "id": "1dec3d75-253b-407b-96c0-92dd3b3c6dab",
   "metadata": {},
   "source": [
    "### 2. Tables de Hash"
   ]
  },
  {
   "cell_type": "code",
   "execution_count": 47,
   "id": "bed97929-7d02-4639-99fd-e6f1f930fbf2",
   "metadata": {},
   "outputs": [
    {
     "data": {
      "text/plain": [
       "False"
      ]
     },
     "execution_count": 47,
     "metadata": {},
     "output_type": "execute_result"
    }
   ],
   "source": [
    "L = [i for i in range(10000)]\n",
    "\"a\" in L "
   ]
  },
  {
   "cell_type": "code",
   "execution_count": 46,
   "id": "0a58e9de-a545-4aa6-853c-50bb8a763d32",
   "metadata": {},
   "outputs": [
    {
     "data": {
      "text/plain": [
       "False"
      ]
     },
     "execution_count": 46,
     "metadata": {},
     "output_type": "execute_result"
    }
   ],
   "source": [
    "\"a\" in set(L)"
   ]
  },
  {
   "cell_type": "code",
   "execution_count": 54,
   "id": "1c21df4b-085b-4af7-aca3-508ddb52b977",
   "metadata": {},
   "outputs": [
    {
     "data": {
      "text/plain": [
       "{'sy': 28, 'seck': 30, 1: 30, (1, 2): 40, 3: 20}"
      ]
     },
     "execution_count": 54,
     "metadata": {},
     "output_type": "execute_result"
    }
   ],
   "source": [
    "d = {\"sy\":28, \"seck\":30, 1:30, (1, 2):40, 3:20}\n",
    "d"
   ]
  },
  {
   "cell_type": "code",
   "execution_count": 50,
   "id": "1a7a46f5-2879-4a50-bbdd-f19cc4075ba3",
   "metadata": {},
   "outputs": [
    {
     "data": {
      "text/plain": [
       "dict"
      ]
     },
     "execution_count": 50,
     "metadata": {},
     "output_type": "execute_result"
    }
   ],
   "source": [
    "type(d)"
   ]
  },
  {
   "cell_type": "code",
   "execution_count": 55,
   "id": "c6f837b7-8653-48df-96a8-0f062cd2c58c",
   "metadata": {},
   "outputs": [
    {
     "data": {
      "text/plain": [
       "['__class__',\n",
       " '__class_getitem__',\n",
       " '__contains__',\n",
       " '__delattr__',\n",
       " '__delitem__',\n",
       " '__dir__',\n",
       " '__doc__',\n",
       " '__eq__',\n",
       " '__format__',\n",
       " '__ge__',\n",
       " '__getattribute__',\n",
       " '__getitem__',\n",
       " '__gt__',\n",
       " '__hash__',\n",
       " '__init__',\n",
       " '__init_subclass__',\n",
       " '__ior__',\n",
       " '__iter__',\n",
       " '__le__',\n",
       " '__len__',\n",
       " '__lt__',\n",
       " '__ne__',\n",
       " '__new__',\n",
       " '__or__',\n",
       " '__reduce__',\n",
       " '__reduce_ex__',\n",
       " '__repr__',\n",
       " '__reversed__',\n",
       " '__ror__',\n",
       " '__setattr__',\n",
       " '__setitem__',\n",
       " '__sizeof__',\n",
       " '__str__',\n",
       " '__subclasshook__',\n",
       " 'clear',\n",
       " 'copy',\n",
       " 'fromkeys',\n",
       " 'get',\n",
       " 'items',\n",
       " 'keys',\n",
       " 'pop',\n",
       " 'popitem',\n",
       " 'setdefault',\n",
       " 'update',\n",
       " 'values']"
      ]
     },
     "execution_count": 55,
     "metadata": {},
     "output_type": "execute_result"
    }
   ],
   "source": [
    "dir(dict)"
   ]
  },
  {
   "cell_type": "code",
   "execution_count": 58,
   "id": "2f62f729-2d8c-4825-9749-4055417a70cb",
   "metadata": {},
   "outputs": [
    {
     "data": {
      "text/plain": [
       "{}"
      ]
     },
     "execution_count": 58,
     "metadata": {},
     "output_type": "execute_result"
    }
   ],
   "source": [
    "d.clear()\n",
    "d"
   ]
  },
  {
   "cell_type": "code",
   "execution_count": 61,
   "id": "eb66b148-7e17-4ea6-a817-01519cadd47d",
   "metadata": {},
   "outputs": [
    {
     "data": {
      "text/plain": [
       "{'a': 1, 'b': 2, 'c': 3}"
      ]
     },
     "execution_count": 61,
     "metadata": {},
     "output_type": "execute_result"
    }
   ],
   "source": [
    "d = {\"a\":1, \"b\":2, \"c\":3}\n",
    "d"
   ]
  },
  {
   "cell_type": "code",
   "execution_count": 63,
   "id": "8c144e3c-bbff-4752-8c76-e9c2d4bc074f",
   "metadata": {},
   "outputs": [
    {
     "ename": "KeyError",
     "evalue": "'e'",
     "output_type": "error",
     "traceback": [
      "\u001b[0;31m---------------------------------------------------------------------------\u001b[0m",
      "\u001b[0;31mKeyError\u001b[0m                                  Traceback (most recent call last)",
      "Cell \u001b[0;32mIn[63], line 1\u001b[0m\n\u001b[0;32m----> 1\u001b[0m \u001b[43md\u001b[49m\u001b[43m[\u001b[49m\u001b[38;5;124;43m\"\u001b[39;49m\u001b[38;5;124;43me\u001b[39;49m\u001b[38;5;124;43m\"\u001b[39;49m\u001b[43m]\u001b[49m\n",
      "\u001b[0;31mKeyError\u001b[0m: 'e'"
     ]
    }
   ],
   "source": [
    "d[\"e\"]"
   ]
  },
  {
   "cell_type": "code",
   "execution_count": 68,
   "id": "3e8281fd-a2d0-4bf4-8589-715fbb887c6a",
   "metadata": {},
   "outputs": [
    {
     "name": "stdout",
     "output_type": "stream",
     "text": [
      "-1\n"
     ]
    }
   ],
   "source": [
    "print(d.get(\"e\", -1))"
   ]
  },
  {
   "cell_type": "code",
   "execution_count": 72,
   "id": "6465a069-28f0-4765-9d3e-54453fd995c1",
   "metadata": {},
   "outputs": [
    {
     "name": "stdout",
     "output_type": "stream",
     "text": [
      "{'b': 1}\n",
      "--------------------------------------------------\n",
      "{'b': 1, 'a': 1}\n",
      "--------------------------------------------------\n",
      "{'b': 1, 'a': 1, 'n': 1}\n",
      "--------------------------------------------------\n",
      "{'b': 1, 'a': 2, 'n': 1}\n",
      "--------------------------------------------------\n",
      "{'b': 1, 'a': 2, 'n': 2}\n",
      "--------------------------------------------------\n",
      "{'b': 1, 'a': 3, 'n': 2}\n",
      "--------------------------------------------------\n"
     ]
    }
   ],
   "source": [
    "ch = \"banana\"\n",
    "\n",
    "d = {}\n",
    "\n",
    "for c in ch: \n",
    "    d[c] = d.get(c, 0) + 1 \n",
    "    print(d)\n",
    "    print(\"-\"*50)"
   ]
  },
  {
   "cell_type": "code",
   "execution_count": 70,
   "id": "79cdc904-c5c2-43ad-acd4-70cc8680833d",
   "metadata": {},
   "outputs": [
    {
     "data": {
      "text/plain": [
       "{'b': 1, 'a': 3, 'n': 2}"
      ]
     },
     "execution_count": 70,
     "metadata": {},
     "output_type": "execute_result"
    }
   ],
   "source": [
    "d "
   ]
  },
  {
   "cell_type": "code",
   "execution_count": 77,
   "id": "692b9d54-3bc5-4d3e-9662-38144fe9c7fc",
   "metadata": {},
   "outputs": [
    {
     "data": {
      "text/plain": [
       "{'a': 1, 'b': 1, 'c': 1, 'd': 1}"
      ]
     },
     "execution_count": 77,
     "metadata": {},
     "output_type": "execute_result"
    }
   ],
   "source": [
    "d = {k:1 for k in list(\"abcd\")}\n",
    "d"
   ]
  },
  {
   "cell_type": "code",
   "execution_count": 79,
   "id": "450a7fbc-046b-418f-b43a-13217749a230",
   "metadata": {},
   "outputs": [],
   "source": [
    "keys = d.keys()"
   ]
  },
  {
   "cell_type": "code",
   "execution_count": 81,
   "id": "8bef98f7-4b10-4be9-be45-f1ae5b52e6d0",
   "metadata": {},
   "outputs": [],
   "source": [
    "values = d.values()"
   ]
  },
  {
   "cell_type": "code",
   "execution_count": 83,
   "id": "75562f62-aa6e-48d1-aa23-d36767e59c50",
   "metadata": {},
   "outputs": [],
   "source": [
    "items = d.items()"
   ]
  },
  {
   "cell_type": "code",
   "execution_count": 84,
   "id": "2f61ddb0-d836-4091-bff7-b4f643d8dd5a",
   "metadata": {},
   "outputs": [],
   "source": [
    "d[\"w\"] = 1000"
   ]
  },
  {
   "cell_type": "code",
   "execution_count": 85,
   "id": "c4f99c43-7351-455e-9069-3aa08894cbc9",
   "metadata": {},
   "outputs": [
    {
     "data": {
      "text/plain": [
       "dict_keys(['a', 'b', 'c', 'd', 'w'])"
      ]
     },
     "execution_count": 85,
     "metadata": {},
     "output_type": "execute_result"
    }
   ],
   "source": [
    "keys"
   ]
  },
  {
   "cell_type": "code",
   "execution_count": 86,
   "id": "1ef5f485-7831-4eeb-a781-c79293d7d70f",
   "metadata": {},
   "outputs": [
    {
     "data": {
      "text/plain": [
       "dict_values([1, 1, 1, 1, 1000])"
      ]
     },
     "execution_count": 86,
     "metadata": {},
     "output_type": "execute_result"
    }
   ],
   "source": [
    "values"
   ]
  },
  {
   "cell_type": "code",
   "execution_count": 87,
   "id": "763c18f2-022d-4098-a967-7ca98cf958fb",
   "metadata": {},
   "outputs": [
    {
     "data": {
      "text/plain": [
       "dict_items([('a', 1), ('b', 1), ('c', 1), ('d', 1), ('w', 1000)])"
      ]
     },
     "execution_count": 87,
     "metadata": {},
     "output_type": "execute_result"
    }
   ],
   "source": [
    "items"
   ]
  },
  {
   "cell_type": "code",
   "execution_count": 88,
   "id": "5ff2dd61-bf9f-48f2-9a2f-b410443b7b42",
   "metadata": {},
   "outputs": [
    {
     "name": "stdout",
     "output_type": "stream",
     "text": [
      "a\n",
      "b\n",
      "c\n",
      "d\n",
      "w\n"
     ]
    }
   ],
   "source": [
    "for key in d.keys(): \n",
    "    print(key)"
   ]
  },
  {
   "cell_type": "code",
   "execution_count": 89,
   "id": "a2ebf935-b7ff-42ff-9fa6-fd6415f51872",
   "metadata": {},
   "outputs": [
    {
     "name": "stdout",
     "output_type": "stream",
     "text": [
      "a 1\n",
      "b 1\n",
      "c 1\n",
      "d 1\n",
      "w 1000\n"
     ]
    }
   ],
   "source": [
    "for k, v in d.items():\n",
    "    print(k,v)"
   ]
  },
  {
   "cell_type": "code",
   "execution_count": 90,
   "id": "c479ddc0-b711-430b-9b44-c844d6518b4b",
   "metadata": {},
   "outputs": [
    {
     "name": "stdout",
     "output_type": "stream",
     "text": [
      "a\n",
      "b\n",
      "c\n",
      "d\n",
      "w\n"
     ]
    }
   ],
   "source": [
    "for k in d: \n",
    "    print(k)"
   ]
  },
  {
   "cell_type": "code",
   "execution_count": 92,
   "id": "f1eba031-c9f8-4a45-ac57-16091d6b833a",
   "metadata": {},
   "outputs": [
    {
     "data": {
      "text/plain": [
       "set"
      ]
     },
     "execution_count": 92,
     "metadata": {},
     "output_type": "execute_result"
    }
   ],
   "source": [
    "s = {1, 1, 2, 2, \"a\", \"a\"}\n",
    "type(s)"
   ]
  },
  {
   "cell_type": "code",
   "execution_count": 93,
   "id": "1b17b380-880f-4614-882f-2d4d8a9f0767",
   "metadata": {},
   "outputs": [
    {
     "data": {
      "text/plain": [
       "{1, 2, 'a'}"
      ]
     },
     "execution_count": 93,
     "metadata": {},
     "output_type": "execute_result"
    }
   ],
   "source": [
    "s"
   ]
  },
  {
   "cell_type": "code",
   "execution_count": 94,
   "id": "421c4c48-4ba9-4451-ab72-430aa1ceaae8",
   "metadata": {},
   "outputs": [],
   "source": [
    "listes_profs1  = {\"sy\", \"fall\", \"seck\", \"ndiaye\"}\n",
    "listes_profs2 = {\"sy\", \"diop\", \"mendy\",\"seck\"}"
   ]
  },
  {
   "cell_type": "code",
   "execution_count": 97,
   "id": "48a50e30-a9fe-436b-b0f0-d9ce8a27599f",
   "metadata": {},
   "outputs": [
    {
     "data": {
      "text/plain": [
       "{'seck', 'sy'}"
      ]
     },
     "execution_count": 97,
     "metadata": {},
     "output_type": "execute_result"
    }
   ],
   "source": [
    "listes_profs1.intersection(listes_profs2)"
   ]
  },
  {
   "cell_type": "code",
   "execution_count": 98,
   "id": "a3754291-9745-43f7-95b1-13cf5bf273d4",
   "metadata": {},
   "outputs": [
    {
     "data": {
      "text/plain": [
       "{'diop', 'fall', 'mendy', 'ndiaye', 'seck', 'sy'}"
      ]
     },
     "execution_count": 98,
     "metadata": {},
     "output_type": "execute_result"
    }
   ],
   "source": [
    "listes_profs1.union(listes_profs2)"
   ]
  },
  {
   "cell_type": "code",
   "execution_count": 99,
   "id": "498b9859-bd8d-42f7-8c19-40a4d6cd3d0c",
   "metadata": {},
   "outputs": [],
   "source": [
    "from collections import Counter "
   ]
  },
  {
   "cell_type": "code",
   "execution_count": 100,
   "id": "bab79531-11b9-4a3a-9b8a-cfef0cec94a3",
   "metadata": {},
   "outputs": [],
   "source": [
    "L = [1, 1, 1, 2, 2, 3]"
   ]
  },
  {
   "cell_type": "code",
   "execution_count": 103,
   "id": "ea48d415-33f6-4d7c-bf9c-922d236f5c43",
   "metadata": {},
   "outputs": [
    {
     "data": {
      "text/plain": [
       "collections.Counter"
      ]
     },
     "execution_count": 103,
     "metadata": {},
     "output_type": "execute_result"
    }
   ],
   "source": [
    "counter = Counter(L)\n",
    "type(counter )"
   ]
  },
  {
   "cell_type": "code",
   "execution_count": 105,
   "id": "3e1f32a1-2ac4-40c0-bcc1-0383f2637486",
   "metadata": {},
   "outputs": [
    {
     "data": {
      "text/plain": [
       "[(1, 3), (2, 2), (3, 1)]"
      ]
     },
     "execution_count": 105,
     "metadata": {},
     "output_type": "execute_result"
    }
   ],
   "source": [
    "counter.most_common()"
   ]
  },
  {
   "cell_type": "code",
   "execution_count": 104,
   "id": "66d93006-5955-436c-a346-540d2ea406f8",
   "metadata": {},
   "outputs": [
    {
     "data": {
      "text/plain": [
       "['__add__',\n",
       " '__and__',\n",
       " '__class__',\n",
       " '__class_getitem__',\n",
       " '__contains__',\n",
       " '__delattr__',\n",
       " '__delitem__',\n",
       " '__dict__',\n",
       " '__dir__',\n",
       " '__doc__',\n",
       " '__eq__',\n",
       " '__format__',\n",
       " '__ge__',\n",
       " '__getattribute__',\n",
       " '__getitem__',\n",
       " '__gt__',\n",
       " '__hash__',\n",
       " '__iadd__',\n",
       " '__iand__',\n",
       " '__init__',\n",
       " '__init_subclass__',\n",
       " '__ior__',\n",
       " '__isub__',\n",
       " '__iter__',\n",
       " '__le__',\n",
       " '__len__',\n",
       " '__lt__',\n",
       " '__missing__',\n",
       " '__module__',\n",
       " '__ne__',\n",
       " '__neg__',\n",
       " '__new__',\n",
       " '__or__',\n",
       " '__pos__',\n",
       " '__reduce__',\n",
       " '__reduce_ex__',\n",
       " '__repr__',\n",
       " '__reversed__',\n",
       " '__ror__',\n",
       " '__setattr__',\n",
       " '__setitem__',\n",
       " '__sizeof__',\n",
       " '__str__',\n",
       " '__sub__',\n",
       " '__subclasshook__',\n",
       " '__weakref__',\n",
       " '_keep_positive',\n",
       " 'clear',\n",
       " 'copy',\n",
       " 'elements',\n",
       " 'fromkeys',\n",
       " 'get',\n",
       " 'items',\n",
       " 'keys',\n",
       " 'most_common',\n",
       " 'pop',\n",
       " 'popitem',\n",
       " 'setdefault',\n",
       " 'subtract',\n",
       " 'update',\n",
       " 'values']"
      ]
     },
     "execution_count": 104,
     "metadata": {},
     "output_type": "execute_result"
    }
   ],
   "source": [
    "dir(Counter)"
   ]
  },
  {
   "cell_type": "code",
   "execution_count": 106,
   "id": "93507d63-bebd-4706-b851-772427cab4c1",
   "metadata": {},
   "outputs": [
    {
     "ename": "NameError",
     "evalue": "name 'e' is not defined",
     "output_type": "error",
     "traceback": [
      "\u001b[0;31m---------------------------------------------------------------------------\u001b[0m",
      "\u001b[0;31mNameError\u001b[0m                                 Traceback (most recent call last)",
      "Cell \u001b[0;32mIn[106], line 1\u001b[0m\n\u001b[0;32m----> 1\u001b[0m \u001b[43me\u001b[49m\n",
      "\u001b[0;31mNameError\u001b[0m: name 'e' is not defined"
     ]
    }
   ],
   "source": [
    "e"
   ]
  },
  {
   "cell_type": "code",
   "execution_count": 107,
   "id": "7e0bd92c-a0ae-4500-84df-97ecf1dedcac",
   "metadata": {},
   "outputs": [
    {
     "ename": "ZeroDivisionError",
     "evalue": "division by zero",
     "output_type": "error",
     "traceback": [
      "\u001b[0;31m---------------------------------------------------------------------------\u001b[0m",
      "\u001b[0;31mZeroDivisionError\u001b[0m                         Traceback (most recent call last)",
      "Cell \u001b[0;32mIn[107], line 1\u001b[0m\n\u001b[0;32m----> 1\u001b[0m \u001b[38;5;241;43m1\u001b[39;49m\u001b[38;5;241;43m/\u001b[39;49m\u001b[38;5;241;43m0\u001b[39;49m\n",
      "\u001b[0;31mZeroDivisionError\u001b[0m: division by zero"
     ]
    }
   ],
   "source": [
    "1/0"
   ]
  },
  {
   "cell_type": "code",
   "execution_count": 108,
   "id": "ded238df-6b3a-431a-9acf-3a5e132958d2",
   "metadata": {},
   "outputs": [],
   "source": [
    "def f(a, b): \n",
    "    return a/b "
   ]
  },
  {
   "cell_type": "code",
   "execution_count": 109,
   "id": "d5026162-7fca-463f-bec0-c5509ebe3b30",
   "metadata": {},
   "outputs": [
    {
     "data": {
      "text/plain": [
       "0.5"
      ]
     },
     "execution_count": 109,
     "metadata": {},
     "output_type": "execute_result"
    }
   ],
   "source": [
    "f(1, 2)"
   ]
  },
  {
   "cell_type": "code",
   "execution_count": 116,
   "id": "cb51bb5b-c8d6-4683-a598-35c24b5440cd",
   "metadata": {},
   "outputs": [
    {
     "name": "stdin",
     "output_type": "stream",
     "text": [
      "Donner la masse \"\"\n"
     ]
    },
    {
     "name": "stdout",
     "output_type": "stream",
     "text": [
      "attention\n"
     ]
    }
   ],
   "source": [
    "try:\n",
    "    taille = 1.75 \n",
    "    masse = float(input(\"Donner la masse\"))\n",
    "\n",
    "    imc = f(taille, masse**2 )\n",
    "    print(imc)\n",
    "except ZeroDivisionError:\n",
    "    print(\"attention on ne divise pas par zero\")\n",
    "\n",
    "except ValueError: \n",
    "    print(\"attention\")"
   ]
  },
  {
   "cell_type": "code",
   "execution_count": 119,
   "id": "40eee39e-8e6a-483a-b11f-33cd5e4201d0",
   "metadata": {},
   "outputs": [
    {
     "name": "stdin",
     "output_type": "stream",
     "text": [
      "Donner la masse \"\"\n"
     ]
    },
    {
     "name": "stdout",
     "output_type": "stream",
     "text": [
      "attention\n"
     ]
    }
   ],
   "source": [
    "try:\n",
    "    taille = 1.75 \n",
    "    masse = float(input(\"Donner la masse\"))\n",
    "\n",
    "    imc = f(taille, masse**2 )\n",
    "    print(imc)\n",
    "except Exception:\n",
    "    print(\"attention\")\n"
   ]
  },
  {
   "cell_type": "code",
   "execution_count": 121,
   "id": "9d9904ed-07af-468f-b792-a74d732f3d0f",
   "metadata": {},
   "outputs": [],
   "source": [
    "class NewException(Exception):\n",
    "    pass "
   ]
  },
  {
   "cell_type": "code",
   "execution_count": 122,
   "id": "7e5abfca-0985-449f-a8ab-962ff55a86de",
   "metadata": {},
   "outputs": [
    {
     "ename": "NewException",
     "evalue": "",
     "output_type": "error",
     "traceback": [
      "\u001b[0;31m---------------------------------------------------------------------------\u001b[0m",
      "\u001b[0;31mNewException\u001b[0m                              Traceback (most recent call last)",
      "Cell \u001b[0;32mIn[122], line 1\u001b[0m\n\u001b[0;32m----> 1\u001b[0m \u001b[38;5;28;01mraise\u001b[39;00m NewException \n",
      "\u001b[0;31mNewException\u001b[0m: "
     ]
    }
   ],
   "source": [
    "raise NewException "
   ]
  },
  {
   "cell_type": "code",
   "execution_count": 126,
   "id": "0a9bf26a-56d3-46f2-8277-84796532a69a",
   "metadata": {},
   "outputs": [
    {
     "name": "stdin",
     "output_type": "stream",
     "text": [
      "Donner la masse 1\n"
     ]
    },
    {
     "name": "stdout",
     "output_type": "stream",
     "text": [
      "1.75\n",
      "tout est ok\n",
      "toujours executer\n"
     ]
    }
   ],
   "source": [
    "try:\n",
    "    taille = 1.75 \n",
    "    masse = float(input(\"Donner la masse\"))\n",
    "\n",
    "    imc = f(taille, masse**2 )\n",
    "    print(imc)\n",
    "except ZeroDivisionError:\n",
    "    print(\"attention on ne divise pas par zero\")\n",
    "\n",
    "except ValueError: \n",
    "    print(\"attention\")\n",
    "\n",
    "else:\n",
    "    print(\"tout est ok\")\n",
    "\n",
    "finally: \n",
    "    print(\"toujours executer\")"
   ]
  },
  {
   "cell_type": "code",
   "execution_count": null,
   "id": "332e3314-2380-4c05-ac9d-7a731c042a21",
   "metadata": {},
   "outputs": [],
   "source": []
  }
 ],
 "metadata": {
  "kernelspec": {
   "display_name": "Python 3 (ipykernel)",
   "language": "python",
   "name": "python3"
  },
  "language_info": {
   "codemirror_mode": {
    "name": "ipython",
    "version": 3
   },
   "file_extension": ".py",
   "mimetype": "text/x-python",
   "name": "python",
   "nbconvert_exporter": "python",
   "pygments_lexer": "ipython3",
   "version": "3.9.18"
  }
 },
 "nbformat": 4,
 "nbformat_minor": 5
}
